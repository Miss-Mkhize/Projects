{
 "cells": [
  {
   "cell_type": "code",
   "execution_count": 18,
   "id": "676b2df2-e94a-4186-94ca-8fb7484b3797",
   "metadata": {},
   "outputs": [
    {
     "name": "stdin",
     "output_type": "stream",
     "text": [
      "Enter your name:  Gugu\n",
      "Enter your weight in pounds:  115\n",
      "Enter your height in inches:  58\n"
     ]
    },
    {
     "name": "stdout",
     "output_type": "stream",
     "text": [
      "24.03240190249703\n",
      "Gugu, You are normal weight.\n"
     ]
    }
   ],
   "source": [
    "name = input(\"Enter your name: \")\n",
    "\n",
    "weight = int(input(\"Enter your weight in pounds: \"))\n",
    "height = int(input(\"Enter your height in inches: \"))\n",
    "\n",
    "BMI = (weight * 703) / (height * height)\n",
    "print(BMI)\n",
    "\n",
    "if BMI >0:\n",
    "    if BMI<18.5:\n",
    "        print(name +\", You are underweight.\")\n",
    "    elif BMI <= 24.9:\n",
    "        print(name + \", You are normal weight.\")\n",
    "    elif BMI <= 29.9:\n",
    "        print(name + \", You are overweight.\")\n",
    "    elif BMI <= 34.9:\n",
    "        print(name + \", You are obese.\")\n",
    "    elif BMI <= 39.9:\n",
    "        print(name + \", You are severely obese.\")\n",
    "    else: \n",
    "        print(name + \", You are morbidly obese.\")"
   ]
  }
 ],
 "metadata": {
  "kernelspec": {
   "display_name": "Python 3 (ipykernel)",
   "language": "python",
   "name": "python3"
  },
  "language_info": {
   "codemirror_mode": {
    "name": "ipython",
    "version": 3
   },
   "file_extension": ".py",
   "mimetype": "text/x-python",
   "name": "python",
   "nbconvert_exporter": "python",
   "pygments_lexer": "ipython3",
   "version": "3.11.7"
  }
 },
 "nbformat": 4,
 "nbformat_minor": 5
}
