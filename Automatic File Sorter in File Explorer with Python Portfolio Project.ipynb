{
 "cells": [
  {
   "cell_type": "code",
   "execution_count": 61,
   "id": "45a91bea-08ed-4e8e-86d6-a221da7b065a",
   "metadata": {},
   "outputs": [],
   "source": [
    "import os, shutil"
   ]
  },
  {
   "cell_type": "code",
   "execution_count": 62,
   "id": "9d3d1d47-7648-49ce-b6de-92a3829f4cd0",
   "metadata": {},
   "outputs": [],
   "source": [
    "path = r\"C:/Users/Projects/Desktop/Python tutorial/\""
   ]
  },
  {
   "cell_type": "code",
   "execution_count": 63,
   "id": "b324af81-8daf-4dc6-8e8b-ba66cb0f46d1",
   "metadata": {},
   "outputs": [],
   "source": [
    "file_name = os.listdir(path)"
   ]
  },
  {
   "cell_type": "code",
   "execution_count": 64,
   "id": "52128f26-9aa7-4437-9826-92b9e8ae85ea",
   "metadata": {},
   "outputs": [
    {
     "name": "stdout",
     "output_type": "stream",
     "text": [
      "C:/Users/Projects/Desktop/Python tutorial/txt files\n",
      "C:/Users/Projects/Desktop/Python tutorial/jpg files\n",
      "C:/Users/Projects/Desktop/Python tutorial/jfif files\n"
     ]
    }
   ],
   "source": [
    "folder_names = ['txt files', 'jpg files', 'jfif files']\n",
    "\n",
    "for loop in range(0,3):\n",
    "    if not os.path.exists(path + folder_names[loop]):\n",
    "        print(path + folder_names[loop])\n",
    "        os.makedirs(path + folder_names[loop])"
   ]
  },
  {
   "cell_type": "code",
   "execution_count": 65,
   "id": "11281d99-900f-4fbb-85b7-be566e175c38",
   "metadata": {},
   "outputs": [],
   "source": [
    "# Script that will read file and place in correct order\n",
    "\n",
    "for file in file_name:\n",
    "    if \".txt\" in file and not os.path.exists(path + \"txt files/\" + file):\n",
    "        shutil.move(path + file, path + \"txt files/\" + file)\n",
    "    elif \".jpg\" in file and not os.path.exists(path + \"jpg files/\" + file):\n",
    "        shutil.move(path + file, path + \"jpg files/\" + file)\n",
    "    elif \".jfif\" in file and not os.path.exists(path + \"jfif files/\" + file):\n",
    "        shutil.move(path + file, path + \"jfif files/\" + file)\n",
    "    else:\n",
    "        print(\"There are files not moved\")"
   ]
  },
  {
   "cell_type": "code",
   "execution_count": null,
   "id": "3e6a2d09-4acc-4cf1-bf0e-5334b0fd2628",
   "metadata": {},
   "outputs": [],
   "source": []
  },
  {
   "cell_type": "code",
   "execution_count": null,
   "id": "881bf50e-9b1f-4c29-b421-ce3dfc5b2b81",
   "metadata": {},
   "outputs": [],
   "source": []
  },
  {
   "cell_type": "code",
   "execution_count": null,
   "id": "e1f322d4-cc84-4119-8b68-d525236fda3e",
   "metadata": {},
   "outputs": [],
   "source": []
  }
 ],
 "metadata": {
  "kernelspec": {
   "display_name": "Python 3 (ipykernel)",
   "language": "python",
   "name": "python3"
  },
  "language_info": {
   "codemirror_mode": {
    "name": "ipython",
    "version": 3
   },
   "file_extension": ".py",
   "mimetype": "text/x-python",
   "name": "python",
   "nbconvert_exporter": "python",
   "pygments_lexer": "ipython3",
   "version": "3.11.7"
  }
 },
 "nbformat": 4,
 "nbformat_minor": 5
}
